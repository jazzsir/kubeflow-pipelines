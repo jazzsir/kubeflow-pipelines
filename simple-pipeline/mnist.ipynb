import kfp
import kfp.dsl as dsl
import kfp.onprem as onprem
from kfp import components

kfserving_op = components.load_component_from_url('https://raw.githubusercontent.com/kubeflow/pipelines/'
                                                  'master/components/kubeflow/kfserving/component.yaml')


@dsl.pipeline(
    name='mnistpipeline',
    description='mnist '
)


def mnist_pipeline(volume_size, learning_rate, dropout_rate, checkpoint_dir,
                   saved_model_dir, tensorboard_log, namespace, storage_uri,
                   name, mount_path, bucket_name):

    vop = dsl.VolumeOp(
        name="mnist_model",
        resource_name="mnist01",
        storage_class="standard",
        modes=dsl.VOLUME_MODE_RWM,
        size="1Gi"
    )

    mnist = dsl.ContainerOp(
        name='training',
        image='regi.local:5000/pipeline/training:1.0',
        command=['python', '/app/app.py'],
        arguments=[
                   '--saved_model_dir', saved_model_dir,
                   '--checkpoint_dir', checkpoint_dir,
                   '--tensorboard_log', tensorboard_log,
                   '--bucket_name', bucket_name,
#                   '--learning_rate', learning_rate,
#                   '--dropout_rate', dropout_rate,
#                   '--checkpoint_dir', checkpoint_dir,
#                   '--saved_model_dir', saved_model_dir,
#                   '--tensorboard_log', tensorboard_log
                  ],
        pvolumes={mount_path: vop.volume}
    )

    result = dsl.ContainerOp(
        name='list_list',
        image='library/bash:4.4.23',
        command=['ls', '-R', '/result'],
        pvolumes={mount_path: mnist.pvolume}
    )

    kfserving = kfserving_op(
        action='apply',
        model_name=name,
        service_account='s3-sa',
        model_uri='s3://' + str(bucket_name) + '/result/saved_model',
        namespace=namespace,
        enable_istio_sidecar='False',
        framework='tensorflow',
    )

    mnist_web_ui = dsl.ContainerOp(
        name='mnist_web_ui',
        image='regi.local:5000/pipeline/kfserving-mnist-web-deploy:1.5',
        arguments=[
            '--image',
            'regi.local:5000/pipeline/kfserving-mnist-web-ui:1.5',
            '--name', 'web-ui',
            '--container-port', '5000',
            '--service-port', '80',
            '--service-type', "NodePort",
        ]
    )

    mnist.after(vop)
    result.after(mnist)
    kfserving.after(mnist)
    mnist_web_ui.after(kfserving)

arguments = {'volume_size': '1Gi',
             'learning_rate': '0.01',
             'dropout_rate': '0.2',
             'checkpoint_dir': '/result/training_checkpoints',
             'saved_model_dir': '/result/saved_model/0001',
             'tensorboard_log': '/result/log',
             'namespace': 'user',
             'mount_path': '/result',
             'storage_uri': '/saved_model',
             'name': 'kfserving-mnist',
             'bucket_name': 'simple-demo'
             }

if __name__ == '__main__':
    kfp.Client().create_run_from_pipeline_func(pipeline_func=mnist_pipeline,
                                               arguments=arguments, namespace='user')
